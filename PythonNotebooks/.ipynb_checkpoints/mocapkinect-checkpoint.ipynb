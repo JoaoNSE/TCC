{
 "cells": [
  {
   "cell_type": "code",
   "execution_count": 2,
   "metadata": {
    "_cell_guid": "b1076dfc-b9ad-4769-8c92-a6c4dae69d19",
    "_uuid": "8f2839f25d086af736a60e9eeb907d3b93b6e0e5",
    "scrolled": true
   },
   "outputs": [
    {
     "name": "stdout",
     "output_type": "stream",
     "text": [
      "['treino_superior.csv']\n"
     ]
    }
   ],
   "source": [
    "# This Python 3 environment comes with many helpful analytics libraries installed\n",
    "# It is defined by the kaggle/python docker image: https://github.com/kaggle/docker-python\n",
    "# For example, here's several helpful packages to load in \n",
    "\n",
    "import numpy as np # linear algebra\n",
    "import pandas as pd # data processing, CSV file I/O (e.g. pd.read_csv)\n",
    "import keras\n",
    "from keras.models import Sequential\n",
    "from keras.layers import Dense, Dropout, Flatten, Conv2D, MaxPool2D\n",
    "from keras.optimizers import RMSprop,SGD\n",
    "from keras.preprocessing.image import ImageDataGenerator\n",
    "from keras.callbacks import ReduceLROnPlateau\n",
    "from keras.applications import VGG16, ResNet50\n",
    "\n",
    "import base64\n",
    "from PIL import Image\n",
    "from io import BytesIO\n",
    "import matplotlib.pyplot as plt\n",
    "import matplotlib.image as mpimg\n",
    "from sklearn.model_selection import train_test_split\n",
    "\n",
    "# Input data files are available in the \"../input/\" directory.\n",
    "# For example, running this (by clicking run or pressing Shift+Enter) will list the files in the input directory\n",
    "\n",
    "import os\n",
    "print(os.listdir(\"../input\"))\n",
    "\n",
    "# Any results you write to the current directory are saved as output."
   ]
  },
  {
   "cell_type": "markdown",
   "metadata": {
    "_uuid": "701a5d1491037dac1ea2166c10a977c03278df58"
   },
   "source": [
    "## Carregando o Conjunto de dados"
   ]
  },
  {
   "cell_type": "code",
   "execution_count": null,
   "metadata": {
    "_cell_guid": "79c7e3d0-c299-4dcb-8224-4455121ee9b0",
    "_uuid": "d629ff2d2480ee46fbb7e2d37f6b5fab8052498a"
   },
   "outputs": [],
   "source": [
    "df = pd.read_csv(\"../input/treino_superior.csv\")"
   ]
  },
  {
   "cell_type": "code",
   "execution_count": null,
   "metadata": {
    "_uuid": "1e714f24ab457dfe0fd776cfee19397021a6a287",
    "scrolled": true
   },
   "outputs": [],
   "source": [
    "df"
   ]
  },
  {
   "cell_type": "code",
   "execution_count": null,
   "metadata": {
    "_uuid": "15f407b62c9abccb847ef5aa2bd4380ecf76e6f9"
   },
   "outputs": [],
   "source": [
    "df.columns"
   ]
  },
  {
   "cell_type": "markdown",
   "metadata": {
    "_uuid": "8192dd73da010717e8b611e56ea49da92140d808"
   },
   "source": [
    "### Descartando colunas que não serão usadas.\n",
    "### As que serão usadas são os dois cotovelos e os dois ombros."
   ]
  },
  {
   "cell_type": "code",
   "execution_count": null,
   "metadata": {
    "_uuid": "2b1209bcc46248be41f1992b6faa5c38f09e241f"
   },
   "outputs": [],
   "source": [
    "df = df[['image', ' Shoulder_Left_A', ' Shoulder_Left_X', ' Shoulder_Left_Y',\n",
    "       ' Shoulder_Left_Z', ' Elbow_Left_A', ' Elbow_Left_X', ' Elbow_Left_Y',\n",
    "       ' Elbow_Left_Z',' Shoulder_Right_A', ' Shoulder_Right_X',\n",
    "       ' Shoulder_Right_Y', ' Shoulder_Right_Z', ' Elbow_Right_A',\n",
    "       ' Elbow_Right_X', ' Elbow_Right_Y', ' Elbow_Right_Z']]"
   ]
  },
  {
   "cell_type": "code",
   "execution_count": null,
   "metadata": {
    "_uuid": "223660d2ee47fa6b2abf509744c5cc66396da97e"
   },
   "outputs": [],
   "source": [
    "df.columns.size"
   ]
  },
  {
   "cell_type": "markdown",
   "metadata": {
    "_uuid": "86c101af800e0c3b34c04e3eef3cefe19126662f"
   },
   "source": [
    "## Convertendo a imagem em base64 para numpy array"
   ]
  },
  {
   "cell_type": "code",
   "execution_count": null,
   "metadata": {
    "_uuid": "96e5219c84f6cde054162cfd8ee196fb8fffc7c5"
   },
   "outputs": [],
   "source": [
    "encoded = df['image'][0]\n",
    "decoded_image = base64.b64decode(encoded)\n",
    "img = Image.open(BytesIO(decoded_image))\n",
    "print(img.size)\n",
    "arr = np.array(img.getdata()).reshape(img.size[1], img.size[0], 3)\n",
    "\n",
    "print(arr.shape)\n",
    "plt.imshow(arr)\n",
    "#dimensions = (28, 28)\n",
    "\n",
    "#img = Image.open(BytesIO(decoded_image)).convert('LA')\n",
    "# image is (28, 28)\n",
    "\n",
    "#img = img.resize(dimensions, Image.ANTIALIAS)\n",
    "#pixels.shape == (28, 28, 2)\n",
    "#pixels = np.asarray(img, dtype='uint8')\n",
    "#print(pixels)\n",
    "#plt.imshow(pixels)\n",
    "# pixel data is lost\n"
   ]
  },
  {
   "cell_type": "code",
   "execution_count": null,
   "metadata": {
    "_kg_hide-input": false,
    "_kg_hide-output": false,
    "_uuid": "4f2786bb1dcf605b73c51a668bc959f9cc090957"
   },
   "outputs": [],
   "source": [
    "#função que recebe uma imagem em base 64 e rotrna array do numpy rgb\n",
    "def getImageNp(imgB64):\n",
    "    decoded_image = base64.b64decode(imgB64)\n",
    "    img = Image.open(BytesIO(decoded_image))\n",
    "    arr = np.array(img.getdata()).reshape(img.size[1], img.size[0], 3)\n",
    "    return arr\n",
    "\n",
    "def getImageNp1D(imgB64):\n",
    "    decoded_image = base64.b64decode(imgB64)\n",
    "    img = Image.open(BytesIO(decoded_image))\n",
    "    arr = np.array(img.getdata())\n",
    "    arr.astype(int)\n",
    "    return arr"
   ]
  },
  {
   "cell_type": "code",
   "execution_count": null,
   "metadata": {
    "_uuid": "3af112b33f50cfabc026a344ecbef505a13ca5ae"
   },
   "outputs": [],
   "source": [
    "plt.imshow(getImageNp(df['image'][40]))"
   ]
  },
  {
   "cell_type": "code",
   "execution_count": null,
   "metadata": {
    "_uuid": "07fae7746df0ad8e3413035f8a1ac369f4fca04e"
   },
   "outputs": [],
   "source": [
    "#freq = 10\n",
    "#for i in range(101):\n",
    "#    plt.imshow(getImageNp(df['image'][i]))\n",
    "#    if (i + freq <= 100):\n",
    "#        i += freq"
   ]
  },
  {
   "cell_type": "code",
   "execution_count": null,
   "metadata": {
    "_uuid": "6185f27f60581f48edd169a16af664f7af0e67b8"
   },
   "outputs": [],
   "source": [
    "teste = [x for x in range(720) if (x+1)%5==0]\n",
    "len(teste)"
   ]
  },
  {
   "cell_type": "markdown",
   "metadata": {
    "_uuid": "38048c79b0c06c5496cdc6ac97a1f0d656c48d21"
   },
   "source": [
    "# Divindo os dados em treino e teste"
   ]
  },
  {
   "cell_type": "markdown",
   "metadata": {
    "_uuid": "25458d75ab3e4b284b2316f68fa0469adc4bd921"
   },
   "source": [
    "### Dividindo coluna das fotos das restantes"
   ]
  },
  {
   "cell_type": "code",
   "execution_count": null,
   "metadata": {
    "_uuid": "23245b8e8a5e3009ad733e7c3b8be8d25a00c682"
   },
   "outputs": [],
   "source": [
    "#X é a coluna das fotos\n",
    "X = df['image']\n",
    "#y são as restantes. A \"resposta\"\n",
    "y = df.drop(columns=\"image\")\n"
   ]
  },
  {
   "cell_type": "code",
   "execution_count": null,
   "metadata": {
    "_uuid": "484560f7cdeb98faf1262bceb1a8348b64586fca"
   },
   "outputs": [],
   "source": [
    "y.values.shape"
   ]
  },
  {
   "cell_type": "code",
   "execution_count": null,
   "metadata": {
    "_uuid": "bebf4cb2fd612767c00ecd6b499ef1a3c8c36c8d",
    "scrolled": true
   },
   "outputs": [],
   "source": [
    "freq = 5\n",
    "tam = 720\n",
    "\n",
    "linhas = [x for x in range(tam) if (x+1)%freq==0]\n",
    "print(linhas)\n",
    "total = len(linhas)\n",
    "\n",
    "Xtmp = np.zeros((total, 480, 640, 3)).astype(int)\n",
    "for i in range(len(linhas)):\n",
    "    print(\"Carregando img \", i)\n",
    "    im = getImageNp(X[linhas[i]])\n",
    "    #print(im.shape)\n",
    "    Xtmp[i] = im\n",
    "    \n",
    "    \n",
    "    #Xtmp = np.append(Xtmp, im)"
   ]
  },
  {
   "cell_type": "code",
   "execution_count": null,
   "metadata": {
    "_uuid": "2906856968bd816b8f245f828d708b032c3a3ef3"
   },
   "outputs": [],
   "source": [
    "#Xtmp = np.zeros((140, 480, 640, 3)).astype(int)\n",
    "#for i in range(140):\n",
    "#    print(\"Carregando img \", i)\n",
    "#    im = getImageNp(X[i])\n",
    "    #print(im.shape)\n",
    "#    Xtmp[i] = im"
   ]
  },
  {
   "cell_type": "markdown",
   "metadata": {
    "_uuid": "ada05d597a1684561716dd719573f2749890e587"
   },
   "source": [
    "### Normalizando as imagens.\n",
    "Dividir as imagens por 255 coloca cada pixel em um intervalo de 0 a 1, facilitando o aprendizado da rede."
   ]
  },
  {
   "cell_type": "code",
   "execution_count": null,
   "metadata": {
    "_uuid": "2b53396938c07474fabf85069a1d774586128cfc"
   },
   "outputs": [],
   "source": [
    "Xtmp = Xtmp.astype('float32')/255"
   ]
  },
  {
   "cell_type": "code",
   "execution_count": null,
   "metadata": {
    "_uuid": "37f7656fcf456011f0a48b432d5ff378fa973605",
    "scrolled": true
   },
   "outputs": [],
   "source": [
    "#Xtmp = Xtmp.reshape(-1, 480, 640, 3)\n",
    "#Xtmp[0]\n",
    "plt.imshow(Xtmp[70])\n",
    "#np.array_equal(Xtmp[0], getImageNp(df['image'][0]))\n",
    "\n",
    "#getImageNp1D(df['image'][0])"
   ]
  },
  {
   "cell_type": "code",
   "execution_count": null,
   "metadata": {
    "_uuid": "2d4ae968a14e2a957be3ea8f05170495de01660a"
   },
   "outputs": [],
   "source": [
    "print(Xtmp.shape)\n",
    "#Divisão dos conjuntos de treino e teste\n",
    "rdn_st = 42\n",
    "X_train, X_test, y_train, y_test = train_test_split(Xtmp, y[:total], test_size=0.3, random_state=rdn_st, stratify=y[:total])\n"
   ]
  },
  {
   "cell_type": "markdown",
   "metadata": {
    "_uuid": "9e387731ec9c58dfa234c16a2a19ca36fea772da"
   },
   "source": [
    "## Definindo o modelo"
   ]
  },
  {
   "cell_type": "code",
   "execution_count": null,
   "metadata": {
    "_uuid": "d789e72bb051c1d3081673cee66002290a491924"
   },
   "outputs": [],
   "source": [
    "#Carregando rede treinada VGG16\n",
    "inception = VGG16(include_top=False, input_shape=(480, 640, 3))"
   ]
  },
  {
   "cell_type": "code",
   "execution_count": null,
   "metadata": {
    "_uuid": "a19689df544519170a2cff37ee82ed1fc0b16da6"
   },
   "outputs": [],
   "source": [
    "#In -> MaxPool2D -> [VGG16] -> Flatten -> Out\n",
    "\n",
    "model = Sequential()\n",
    "model.add(MaxPool2D(pool_size=(2, 2)))\n",
    "model.add(inception)\n",
    "\n",
    "model.add(Flatten())\n",
    "model.add(Dense(16, activation = \"relu\"))"
   ]
  },
  {
   "cell_type": "code",
   "execution_count": null,
   "metadata": {
    "_uuid": "99af5b710ec35e70befb5d31aa3e25474049cd6b"
   },
   "outputs": [],
   "source": [
    "sgd = SGD(lr=0.0001)"
   ]
  },
  {
   "cell_type": "code",
   "execution_count": null,
   "metadata": {
    "_uuid": "4265e2be5ca8a243793f91c58790f226f438d1a2"
   },
   "outputs": [],
   "source": [
    "model.compile(optimizer = sgd , loss = \"mean_squared_error\", metrics=[\"mean_squared_error\"])"
   ]
  },
  {
   "cell_type": "code",
   "execution_count": null,
   "metadata": {
    "_uuid": "56768211511c8aeb4d504540e5a6f6a9a5bfc342",
    "scrolled": true
   },
   "outputs": [],
   "source": [
    "history = model.fit(X_train, y_train.values, epochs=10, batch_size=64)"
   ]
  },
  {
   "cell_type": "code",
   "execution_count": null,
   "metadata": {
    "_uuid": "8a431fe75f8eb35868037b86b114aacc12985c80",
    "scrolled": false
   },
   "outputs": [],
   "source": [
    "for i in range(1, 6):\n",
    "    img = X_test[i]\n",
    "    img_class = model.predict(X_test)\n",
    "    prediction = img_class[i]\n",
    "    classname = img_class[i]\n",
    "    print(\"Predicted: \",str(classname))\n",
    "    print(\"Correct: \", str(y_test.values[i]))\n",
    "    #img = img.reshape((28,28))\n",
    "    plt.imshow(img)\n",
    "    plt.title(classname)\n",
    "    plt.show()"
   ]
  }
 ],
 "metadata": {
  "kernelspec": {
   "display_name": "Python 3",
   "language": "python",
   "name": "python3"
  }
 },
 "nbformat": 4,
 "nbformat_minor": 1
}
