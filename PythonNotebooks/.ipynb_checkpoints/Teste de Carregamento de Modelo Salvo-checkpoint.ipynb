{
 "cells": [
  {
   "cell_type": "code",
   "execution_count": 14,
   "metadata": {},
   "outputs": [
    {
     "name": "stdout",
     "output_type": "stream",
     "text": [
      "['Modelo Treinado v1', 'treino_superior.csv']\n"
     ]
    }
   ],
   "source": [
    "# This Python 3 environment comes with many helpful analytics libraries installed\n",
    "# It is defined by the kaggle/python docker image: https://github.com/kaggle/docker-python\n",
    "# For example, here's several helpful packages to load in \n",
    "\n",
    "import numpy as np # linear algebra\n",
    "import pandas as pd # data processing, CSV file I/O (e.g. pd.read_csv)\n",
    "import keras\n",
    "from keras.models import Sequential\n",
    "from keras.models import model_from_json\n",
    "from keras.layers import Dense, Dropout, Flatten, Conv2D, MaxPool2D\n",
    "from keras.optimizers import RMSprop,SGD\n",
    "from keras.preprocessing.image import ImageDataGenerator\n",
    "from keras.callbacks import ReduceLROnPlateau\n",
    "from keras.applications import VGG16, ResNet50\n",
    "\n",
    "import base64\n",
    "from PIL import Image\n",
    "from io import BytesIO\n",
    "import matplotlib.pyplot as plt\n",
    "import matplotlib.image as mpimg\n",
    "from sklearn.model_selection import train_test_split\n",
    "\n",
    "# Input data files are available in the \"../input/\" directory.\n",
    "# For example, running this (by clicking run or pressing Shift+Enter) will list the files in the input directory\n",
    "\n",
    "import os\n",
    "print(os.listdir(\"../input\"))\n",
    "\n",
    "# Any results you write to the current directory are saved as output."
   ]
  },
  {
   "cell_type": "code",
   "execution_count": 2,
   "metadata": {},
   "outputs": [],
   "source": [
    "df = pd.read_csv(\"../input/treino_superior.csv\")"
   ]
  },
  {
   "cell_type": "code",
   "execution_count": 3,
   "metadata": {},
   "outputs": [],
   "source": [
    "df = df[['image', ' Shoulder_Left_A', ' Shoulder_Left_X', ' Shoulder_Left_Y',\n",
    "       ' Shoulder_Left_Z', ' Elbow_Left_A', ' Elbow_Left_X', ' Elbow_Left_Y',\n",
    "       ' Elbow_Left_Z',' Shoulder_Right_A', ' Shoulder_Right_X',\n",
    "       ' Shoulder_Right_Y', ' Shoulder_Right_Z', ' Elbow_Right_A',\n",
    "       ' Elbow_Right_X', ' Elbow_Right_Y', ' Elbow_Right_Z']]"
   ]
  },
  {
   "cell_type": "code",
   "execution_count": 4,
   "metadata": {},
   "outputs": [],
   "source": [
    "#função que recebe uma imagem em base 64 e rotrna array do numpy rgb\n",
    "def getImageNp(imgB64):\n",
    "    decoded_image = base64.b64decode(imgB64)\n",
    "    img = Image.open(BytesIO(decoded_image))\n",
    "    arr = np.array(img.getdata()).reshape(img.size[1], img.size[0], 3)\n",
    "    return arr\n",
    "\n",
    "def getImageNp1D(imgB64):\n",
    "    decoded_image = base64.b64decode(imgB64)\n",
    "    img = Image.open(BytesIO(decoded_image))\n",
    "    arr = np.array(img.getdata())\n",
    "    arr.astype(int)\n",
    "    return arr"
   ]
  },
  {
   "cell_type": "code",
   "execution_count": 5,
   "metadata": {},
   "outputs": [],
   "source": [
    "#X é a coluna das fotos\n",
    "X = df['image']\n",
    "#y são as restantes. A \"resposta\"\n",
    "y = df.drop(columns=\"image\")\n"
   ]
  },
  {
   "cell_type": "code",
   "execution_count": 6,
   "metadata": {},
   "outputs": [
    {
     "name": "stdout",
     "output_type": "stream",
     "text": [
      "[4, 9, 14, 19, 24, 29, 34, 39, 44, 49, 54, 59, 64, 69, 74, 79, 84, 89, 94, 99, 104, 109, 114, 119, 124, 129, 134, 139, 144, 149, 154, 159, 164, 169, 174, 179, 184, 189, 194, 199, 204, 209, 214, 219, 224, 229, 234, 239, 244, 249, 254, 259, 264, 269, 274, 279, 284, 289, 294, 299, 304, 309, 314, 319, 324, 329, 334, 339, 344, 349, 354, 359, 364, 369, 374, 379, 384, 389, 394, 399, 404, 409, 414, 419, 424, 429, 434, 439, 444, 449, 454, 459, 464, 469, 474, 479, 484, 489, 494, 499, 504, 509, 514, 519, 524, 529, 534, 539, 544, 549, 554, 559, 564, 569, 574, 579, 584, 589, 594, 599, 604, 609, 614, 619, 624, 629, 634, 639, 644, 649, 654, 659, 664, 669, 674, 679, 684, 689, 694, 699, 704, 709, 714, 719]\n",
      "Carregando img  0\n",
      "Carregando img  1\n",
      "Carregando img  2\n",
      "Carregando img  3\n",
      "Carregando img  4\n",
      "Carregando img  5\n",
      "Carregando img  6\n",
      "Carregando img  7\n",
      "Carregando img  8\n",
      "Carregando img  9\n",
      "Carregando img  10\n",
      "Carregando img  11\n",
      "Carregando img  12\n",
      "Carregando img  13\n",
      "Carregando img  14\n",
      "Carregando img  15\n",
      "Carregando img  16\n",
      "Carregando img  17\n",
      "Carregando img  18\n",
      "Carregando img  19\n",
      "Carregando img  20\n",
      "Carregando img  21\n",
      "Carregando img  22\n",
      "Carregando img  23\n",
      "Carregando img  24\n",
      "Carregando img  25\n",
      "Carregando img  26\n",
      "Carregando img  27\n",
      "Carregando img  28\n",
      "Carregando img  29\n",
      "Carregando img  30\n",
      "Carregando img  31\n",
      "Carregando img  32\n",
      "Carregando img  33\n",
      "Carregando img  34\n",
      "Carregando img  35\n",
      "Carregando img  36\n",
      "Carregando img  37\n",
      "Carregando img  38\n",
      "Carregando img  39\n",
      "Carregando img  40\n",
      "Carregando img  41\n",
      "Carregando img  42\n",
      "Carregando img  43\n",
      "Carregando img  44\n",
      "Carregando img  45\n",
      "Carregando img  46\n",
      "Carregando img  47\n",
      "Carregando img  48\n",
      "Carregando img  49\n",
      "Carregando img  50\n",
      "Carregando img  51\n",
      "Carregando img  52\n",
      "Carregando img  53\n",
      "Carregando img  54\n",
      "Carregando img  55\n",
      "Carregando img  56\n",
      "Carregando img  57\n",
      "Carregando img  58\n",
      "Carregando img  59\n",
      "Carregando img  60\n",
      "Carregando img  61\n",
      "Carregando img  62\n",
      "Carregando img  63\n",
      "Carregando img  64\n",
      "Carregando img  65\n",
      "Carregando img  66\n",
      "Carregando img  67\n",
      "Carregando img  68\n",
      "Carregando img  69\n",
      "Carregando img  70\n",
      "Carregando img  71\n",
      "Carregando img  72\n",
      "Carregando img  73\n",
      "Carregando img  74\n",
      "Carregando img  75\n",
      "Carregando img  76\n",
      "Carregando img  77\n",
      "Carregando img  78\n",
      "Carregando img  79\n",
      "Carregando img  80\n",
      "Carregando img  81\n",
      "Carregando img  82\n",
      "Carregando img  83\n",
      "Carregando img  84\n",
      "Carregando img  85\n",
      "Carregando img  86\n",
      "Carregando img  87\n",
      "Carregando img  88\n",
      "Carregando img  89\n",
      "Carregando img  90\n",
      "Carregando img  91\n",
      "Carregando img  92\n",
      "Carregando img  93\n",
      "Carregando img  94\n",
      "Carregando img  95\n",
      "Carregando img  96\n",
      "Carregando img  97\n",
      "Carregando img  98\n",
      "Carregando img  99\n",
      "Carregando img  100\n",
      "Carregando img  101\n",
      "Carregando img  102\n",
      "Carregando img  103\n",
      "Carregando img  104\n",
      "Carregando img  105\n",
      "Carregando img  106\n",
      "Carregando img  107\n",
      "Carregando img  108\n",
      "Carregando img  109\n",
      "Carregando img  110\n",
      "Carregando img  111\n",
      "Carregando img  112\n",
      "Carregando img  113\n",
      "Carregando img  114\n",
      "Carregando img  115\n",
      "Carregando img  116\n",
      "Carregando img  117\n",
      "Carregando img  118\n",
      "Carregando img  119\n",
      "Carregando img  120\n",
      "Carregando img  121\n",
      "Carregando img  122\n",
      "Carregando img  123\n",
      "Carregando img  124\n",
      "Carregando img  125\n",
      "Carregando img  126\n",
      "Carregando img  127\n",
      "Carregando img  128\n",
      "Carregando img  129\n",
      "Carregando img  130\n",
      "Carregando img  131\n",
      "Carregando img  132\n",
      "Carregando img  133\n",
      "Carregando img  134\n",
      "Carregando img  135\n",
      "Carregando img  136\n",
      "Carregando img  137\n",
      "Carregando img  138\n",
      "Carregando img  139\n",
      "Carregando img  140\n",
      "Carregando img  141\n",
      "Carregando img  142\n",
      "Carregando img  143\n",
      "Carregando img  144\n",
      "Carregando img  145\n",
      "Carregando img  146\n",
      "Carregando img  147\n",
      "Carregando img  148\n",
      "Carregando img  149\n",
      "Carregando img  150\n",
      "Carregando img  151\n",
      "Carregando img  152\n",
      "Carregando img  153\n"
     ]
    }
   ],
   "source": [
    "freq = 5\n",
    "tam = 720\n",
    "\n",
    "linhas = [x for x in range(tam) if (x+1)%freq==0]\n",
    "print(linhas)\n",
    "total = len(linhas)\n",
    "total = X.shape[0]\n",
    "\n",
    "Xtmp = np.zeros((total, 480, 640, 3)).astype(int)\n",
    "for i in range(total):\n",
    "    print(\"Carregando img \", i)\n",
    "    im = getImageNp(X[i])\n",
    "    #print(im.shape)\n",
    "    Xtmp[i] = im\n",
    "    "
   ]
  },
  {
   "cell_type": "code",
   "execution_count": 7,
   "metadata": {},
   "outputs": [],
   "source": [
    "Xtmp = Xtmp.astype('float32')/255"
   ]
  },
  {
   "cell_type": "code",
   "execution_count": 8,
   "metadata": {},
   "outputs": [],
   "source": [
    "angleCols = [' Shoulder_Left_A', ' Elbow_Left_A', ' Shoulder_Right_A', ' Elbow_Right_A']\n",
    "axisCols = [' Shoulder_Left_X', ' Shoulder_Left_Y', ' Shoulder_Left_Z', \n",
    "            ' Elbow_Left_X', ' Elbow_Left_Y', ' Elbow_Left_Z',\n",
    "            ' Shoulder_Right_X', ' Shoulder_Right_Y', ' Shoulder_Right_Z',\n",
    "            ' Elbow_Right_X', ' Elbow_Right_Y', ' Elbow_Right_Z']"
   ]
  },
  {
   "cell_type": "code",
   "execution_count": 9,
   "metadata": {},
   "outputs": [],
   "source": [
    "y = df.drop(columns=\"image\")"
   ]
  },
  {
   "cell_type": "code",
   "execution_count": 10,
   "metadata": {},
   "outputs": [
    {
     "name": "stdout",
     "output_type": "stream",
     "text": [
      " Shoulder_Left_A\n",
      "Max Angle:  81.9843\n",
      " Elbow_Left_A\n",
      "Max Angle:  165.343\n",
      " Shoulder_Right_A\n",
      "Max Angle:  107.4643\n",
      " Elbow_Right_A\n",
      "Max Angle:  236.8331\n",
      "================\n",
      " Shoulder_Left_X\n",
      "Max axis:  1.3373358\n",
      " Shoulder_Left_Y\n",
      "Max axis:  1.6367318000000002\n",
      " Shoulder_Left_Z\n",
      "Max axis:  1.9902696\n",
      " Elbow_Left_X\n",
      "Max axis:  1.3578928000000001\n",
      " Elbow_Left_Y\n",
      "Max axis:  1.9921030000000002\n",
      " Elbow_Left_Z\n",
      "Max axis:  1.9978283000000001\n",
      " Shoulder_Right_X\n",
      "Max axis:  1.1465464\n",
      " Shoulder_Right_Y\n",
      "Max axis:  1.9521279\n",
      " Shoulder_Right_Z\n",
      "Max axis:  1.9985553999999999\n",
      " Elbow_Right_X\n",
      "Max axis:  1.473579\n",
      " Elbow_Right_Y\n",
      "Max axis:  1.9279229\n",
      " Elbow_Right_Z\n",
      "Max axis:  1.9640244999999998\n"
     ]
    }
   ],
   "source": [
    "normY = y\n",
    "#normalizando as colunas de angulo\n",
    "for c in angleCols:\n",
    "    print(c)\n",
    "    maxA = y[c].max()\n",
    "    print(\"Max Angle: \", maxA)\n",
    "    normY[c] = y[c] / maxA\n",
    "    \n",
    "print(\"================\")\n",
    "\n",
    "#normalizando as colunas de eixo\n",
    "for c in axisCols:\n",
    "    print(c)\n",
    "    maxAx = y[c].max() + 1\n",
    "    print(\"Max axis: \", maxAx)\n",
    "    normY[c] = (y[c] + 1) / maxAx"
   ]
  },
  {
   "cell_type": "markdown",
   "metadata": {},
   "source": [
    "## Carregando o modelo"
   ]
  },
  {
   "cell_type": "code",
   "execution_count": 16,
   "metadata": {},
   "outputs": [
    {
     "ename": "ValueError",
     "evalue": "Unknown layer:layers",
     "output_type": "error",
     "traceback": [
      "\u001b[1;31m---------------------------------------------------------------------------\u001b[0m",
      "\u001b[1;31mValueError\u001b[0m                                Traceback (most recent call last)",
      "\u001b[1;32m<ipython-input-16-ced8a2cdfce8>\u001b[0m in \u001b[0;36m<module>\u001b[1;34m()\u001b[0m\n\u001b[0;32m      2\u001b[0m \u001b[0mloaded_model_json\u001b[0m \u001b[1;33m=\u001b[0m \u001b[0mjson_file\u001b[0m\u001b[1;33m.\u001b[0m\u001b[0mread\u001b[0m\u001b[1;33m(\u001b[0m\u001b[1;33m)\u001b[0m\u001b[1;33m\u001b[0m\u001b[0m\n\u001b[0;32m      3\u001b[0m \u001b[0mjson_file\u001b[0m\u001b[1;33m.\u001b[0m\u001b[0mclose\u001b[0m\u001b[1;33m(\u001b[0m\u001b[1;33m)\u001b[0m\u001b[1;33m\u001b[0m\u001b[0m\n\u001b[1;32m----> 4\u001b[1;33m \u001b[0mloaded_model\u001b[0m \u001b[1;33m=\u001b[0m \u001b[0mmodel_from_json\u001b[0m\u001b[1;33m(\u001b[0m\u001b[0mloaded_model_json\u001b[0m\u001b[1;33m)\u001b[0m\u001b[1;33m\u001b[0m\u001b[0m\n\u001b[0m",
      "\u001b[1;32m~\\Anaconda3\\envs\\keras\\lib\\site-packages\\keras\\engine\\saving.py\u001b[0m in \u001b[0;36mmodel_from_json\u001b[1;34m(json_string, custom_objects)\u001b[0m\n\u001b[0;32m    366\u001b[0m     \u001b[0mconfig\u001b[0m \u001b[1;33m=\u001b[0m \u001b[0mjson\u001b[0m\u001b[1;33m.\u001b[0m\u001b[0mloads\u001b[0m\u001b[1;33m(\u001b[0m\u001b[0mjson_string\u001b[0m\u001b[1;33m)\u001b[0m\u001b[1;33m\u001b[0m\u001b[0m\n\u001b[0;32m    367\u001b[0m     \u001b[1;32mfrom\u001b[0m \u001b[1;33m.\u001b[0m\u001b[1;33m.\u001b[0m\u001b[0mlayers\u001b[0m \u001b[1;32mimport\u001b[0m \u001b[0mdeserialize\u001b[0m\u001b[1;33m\u001b[0m\u001b[0m\n\u001b[1;32m--> 368\u001b[1;33m     \u001b[1;32mreturn\u001b[0m \u001b[0mdeserialize\u001b[0m\u001b[1;33m(\u001b[0m\u001b[0mconfig\u001b[0m\u001b[1;33m,\u001b[0m \u001b[0mcustom_objects\u001b[0m\u001b[1;33m=\u001b[0m\u001b[0mcustom_objects\u001b[0m\u001b[1;33m)\u001b[0m\u001b[1;33m\u001b[0m\u001b[0m\n\u001b[0m\u001b[0;32m    369\u001b[0m \u001b[1;33m\u001b[0m\u001b[0m\n\u001b[0;32m    370\u001b[0m \u001b[1;33m\u001b[0m\u001b[0m\n",
      "\u001b[1;32m~\\Anaconda3\\envs\\keras\\lib\\site-packages\\keras\\layers\\__init__.py\u001b[0m in \u001b[0;36mdeserialize\u001b[1;34m(config, custom_objects)\u001b[0m\n\u001b[0;32m     53\u001b[0m                                     \u001b[0mmodule_objects\u001b[0m\u001b[1;33m=\u001b[0m\u001b[0mglobs\u001b[0m\u001b[1;33m,\u001b[0m\u001b[1;33m\u001b[0m\u001b[0m\n\u001b[0;32m     54\u001b[0m                                     \u001b[0mcustom_objects\u001b[0m\u001b[1;33m=\u001b[0m\u001b[0mcustom_objects\u001b[0m\u001b[1;33m,\u001b[0m\u001b[1;33m\u001b[0m\u001b[0m\n\u001b[1;32m---> 55\u001b[1;33m                                     printable_module_name='layer')\n\u001b[0m",
      "\u001b[1;32m~\\Anaconda3\\envs\\keras\\lib\\site-packages\\keras\\utils\\generic_utils.py\u001b[0m in \u001b[0;36mdeserialize_keras_object\u001b[1;34m(identifier, module_objects, custom_objects, printable_module_name)\u001b[0m\n\u001b[0;32m    143\u001b[0m                     \u001b[0mconfig\u001b[0m\u001b[1;33m[\u001b[0m\u001b[1;34m'config'\u001b[0m\u001b[1;33m]\u001b[0m\u001b[1;33m,\u001b[0m\u001b[1;33m\u001b[0m\u001b[0m\n\u001b[0;32m    144\u001b[0m                     custom_objects=dict(list(_GLOBAL_CUSTOM_OBJECTS.items()) +\n\u001b[1;32m--> 145\u001b[1;33m                                         list(custom_objects.items())))\n\u001b[0m\u001b[0;32m    146\u001b[0m             \u001b[1;32mwith\u001b[0m \u001b[0mCustomObjectScope\u001b[0m\u001b[1;33m(\u001b[0m\u001b[0mcustom_objects\u001b[0m\u001b[1;33m)\u001b[0m\u001b[1;33m:\u001b[0m\u001b[1;33m\u001b[0m\u001b[0m\n\u001b[0;32m    147\u001b[0m                 \u001b[1;32mreturn\u001b[0m \u001b[0mcls\u001b[0m\u001b[1;33m.\u001b[0m\u001b[0mfrom_config\u001b[0m\u001b[1;33m(\u001b[0m\u001b[0mconfig\u001b[0m\u001b[1;33m[\u001b[0m\u001b[1;34m'config'\u001b[0m\u001b[1;33m]\u001b[0m\u001b[1;33m)\u001b[0m\u001b[1;33m\u001b[0m\u001b[0m\n",
      "\u001b[1;32m~\\Anaconda3\\envs\\keras\\lib\\site-packages\\keras\\engine\\sequential.py\u001b[0m in \u001b[0;36mfrom_config\u001b[1;34m(cls, config, custom_objects)\u001b[0m\n\u001b[0;32m    290\u001b[0m         \u001b[1;32mfor\u001b[0m \u001b[0mconf\u001b[0m \u001b[1;32min\u001b[0m \u001b[0mconfig\u001b[0m\u001b[1;33m:\u001b[0m\u001b[1;33m\u001b[0m\u001b[0m\n\u001b[0;32m    291\u001b[0m             layer = layer_module.deserialize(conf,\n\u001b[1;32m--> 292\u001b[1;33m                                              custom_objects=custom_objects)\n\u001b[0m\u001b[0;32m    293\u001b[0m             \u001b[0mmodel\u001b[0m\u001b[1;33m.\u001b[0m\u001b[0madd\u001b[0m\u001b[1;33m(\u001b[0m\u001b[0mlayer\u001b[0m\u001b[1;33m)\u001b[0m\u001b[1;33m\u001b[0m\u001b[0m\n\u001b[0;32m    294\u001b[0m         \u001b[1;32mreturn\u001b[0m \u001b[0mmodel\u001b[0m\u001b[1;33m\u001b[0m\u001b[0m\n",
      "\u001b[1;32m~\\Anaconda3\\envs\\keras\\lib\\site-packages\\keras\\layers\\__init__.py\u001b[0m in \u001b[0;36mdeserialize\u001b[1;34m(config, custom_objects)\u001b[0m\n\u001b[0;32m     53\u001b[0m                                     \u001b[0mmodule_objects\u001b[0m\u001b[1;33m=\u001b[0m\u001b[0mglobs\u001b[0m\u001b[1;33m,\u001b[0m\u001b[1;33m\u001b[0m\u001b[0m\n\u001b[0;32m     54\u001b[0m                                     \u001b[0mcustom_objects\u001b[0m\u001b[1;33m=\u001b[0m\u001b[0mcustom_objects\u001b[0m\u001b[1;33m,\u001b[0m\u001b[1;33m\u001b[0m\u001b[0m\n\u001b[1;32m---> 55\u001b[1;33m                                     printable_module_name='layer')\n\u001b[0m",
      "\u001b[1;32m~\\Anaconda3\\envs\\keras\\lib\\site-packages\\keras\\utils\\generic_utils.py\u001b[0m in \u001b[0;36mdeserialize_keras_object\u001b[1;34m(identifier, module_objects, custom_objects, printable_module_name)\u001b[0m\n\u001b[0;32m    163\u001b[0m             \u001b[1;32mif\u001b[0m \u001b[0mfn\u001b[0m \u001b[1;32mis\u001b[0m \u001b[1;32mNone\u001b[0m\u001b[1;33m:\u001b[0m\u001b[1;33m\u001b[0m\u001b[0m\n\u001b[0;32m    164\u001b[0m                 raise ValueError('Unknown ' + printable_module_name +\n\u001b[1;32m--> 165\u001b[1;33m                                  ':' + function_name)\n\u001b[0m\u001b[0;32m    166\u001b[0m         \u001b[1;32mreturn\u001b[0m \u001b[0mfn\u001b[0m\u001b[1;33m\u001b[0m\u001b[0m\n\u001b[0;32m    167\u001b[0m     \u001b[1;32melse\u001b[0m\u001b[1;33m:\u001b[0m\u001b[1;33m\u001b[0m\u001b[0m\n",
      "\u001b[1;31mValueError\u001b[0m: Unknown layer:layers"
     ]
    }
   ],
   "source": [
    "json_file = open('../input/Modelo Treinado v1/model.json', 'r')\n",
    "loaded_model_json = json_file.read()\n",
    "json_file.close()\n",
    "loaded_model = model_from_json(loaded_model_json)"
   ]
  },
  {
   "cell_type": "code",
   "execution_count": 12,
   "metadata": {},
   "outputs": [
    {
     "name": "stdout",
     "output_type": "stream",
     "text": [
      "['model.h5', 'model.json']\n"
     ]
    }
   ],
   "source": [
    "print(os.listdir(\"../input/Modelo Treinado v1\"))"
   ]
  }
 ],
 "metadata": {
  "kernelspec": {
   "display_name": "Python 3",
   "language": "python",
   "name": "python3"
  },
  "language_info": {
   "codemirror_mode": {
    "name": "ipython",
    "version": 3
   },
   "file_extension": ".py",
   "mimetype": "text/x-python",
   "name": "python",
   "nbconvert_exporter": "python",
   "pygments_lexer": "ipython3",
   "version": "3.5.6"
  }
 },
 "nbformat": 4,
 "nbformat_minor": 2
}
